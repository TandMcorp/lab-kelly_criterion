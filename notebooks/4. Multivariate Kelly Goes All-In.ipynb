{
 "cells": [
  {
   "cell_type": "code",
   "execution_count": 1,
   "metadata": {},
   "outputs": [],
   "source": [
    "%load_ext autoreload\n",
    "%autoreload 2\n",
    "\n",
    "%matplotlib notebook"
   ]
  },
  {
   "cell_type": "code",
   "execution_count": 23,
   "metadata": {},
   "outputs": [],
   "source": [
    "from kelly_criterion.kelly import log_return\n",
    "from kelly_criterion.samplers import make_bernoulli_return_sampler\n",
    "from kelly_criterion.samplers import make_uniform_return_sampler\n",
    "from kelly_criterion.plots import plot_func\n",
    "from kelly_criterion.plots_3d import plot_3d_func"
   ]
  },
  {
   "cell_type": "markdown",
   "metadata": {},
   "source": [
    "# Multivariate Kelly Goes All-In\n",
    "\n",
    "## Objective\n",
    "\n",
    "The goal of this lab is to explore the feature observed in \\[Finkelstein et al, 1981\\] that while a Kelly strategy in a univariate setting will never invest the full fortune, it can do in a multivariate setting.\n",
    "\n",
    "## Background\n",
    "\n",
    "Example 3 of \\[Finkelstein et al, 1981\\] describes:\n",
    "\n",
    ">The surprising fact is that for one variable X1 a gambler does not bet all his fortune no matter what b is, but he does bet all his fortune on two independent copies of X1 for b large enough. \n",
    "\n",
    "The example they give is $X, Y \\sim U(-1, b)$ IID. As usual, we want to maximize $G(\\mu, \\nu) = \\mathbb{E}\\big[ \\log(1+\\mu X + \\nu Y \\big]$. They show that $G$ is maximized at $(\\frac{1}{2},\\frac{1}{2})$ for $b > \\log(16) - 1 \\approx 1.77$. That is, the Kelly strategy allocates the full capital.\n",
    "\n",
    "## Bivariate Uniform\n",
    "\n",
    "In the case considered in \\[Finkelstein et al, 1981\\], we plot $G$ first for $b < 1.77$:"
   ]
  },
  {
   "cell_type": "code",
   "execution_count": 30,
   "metadata": {},
   "outputs": [
    {
     "data": {
      "application/vnd.jupyter.widget-view+json": {
       "model_id": "9a768c166e164d259f58a9cd30a9d7b0",
       "version_major": 2,
       "version_minor": 0
      },
      "text/plain": [
       "Canvas(toolbar=Toolbar(toolitems=[('Home', 'Reset original view', 'home', 'home'), ('Back', 'Back to previous …"
      ]
     },
     "metadata": {},
     "output_type": "display_data"
    }
   ],
   "source": [
    "samples = make_uniform_return_sampler(1.1, n=2)(1000)\n",
    "plot_3d_func(lambda x, y: log_return([x, y], samples))"
   ]
  },
  {
   "cell_type": "markdown",
   "metadata": {},
   "source": [
    "the behaviour looks similar to the univariate case. When we increase $b$, though, we see"
   ]
  },
  {
   "cell_type": "code",
   "execution_count": 28,
   "metadata": {},
   "outputs": [
    {
     "data": {
      "application/vnd.jupyter.widget-view+json": {
       "model_id": "c8fe6260557747c8ab1e157a9cb3cf5e",
       "version_major": 2,
       "version_minor": 0
      },
      "text/plain": [
       "Canvas(toolbar=Toolbar(toolitems=[('Home', 'Reset original view', 'home', 'home'), ('Back', 'Back to previous …"
      ]
     },
     "metadata": {},
     "output_type": "display_data"
    }
   ],
   "source": [
    "samples = make_uniform_return_sampler(2, n=2)(1000)\n",
    "plot_3d_func(lambda x, y: log_return([x, y], samples))"
   ]
  },
  {
   "cell_type": "markdown",
   "metadata": {},
   "source": [
    "as described.\n",
    "\n",
    "Varying $b$, we see the issue is about hitting the boundary of the domain within the domain of the log.\n",
    "\n",
    "Despite investing the full capital, the probability of a total loss is still 0.\n",
    "\n",
    "## Bivariate Bernoulli\n",
    "\n",
    "The above example raises the question of what this looks like in the case of bivariate Bernoullis, where there is a finite probability of total loss.\n",
    "\n",
    "Again, for small $p$ it looks as previously"
   ]
  },
  {
   "cell_type": "code",
   "execution_count": 31,
   "metadata": {},
   "outputs": [
    {
     "data": {
      "application/vnd.jupyter.widget-view+json": {
       "model_id": "6187bbf4e30a490d8e65b9fca39b98dc",
       "version_major": 2,
       "version_minor": 0
      },
      "text/plain": [
       "Canvas(toolbar=Toolbar(toolitems=[('Home', 'Reset original view', 'home', 'home'), ('Back', 'Back to previous …"
      ]
     },
     "metadata": {},
     "output_type": "display_data"
    }
   ],
   "source": [
    "samples = make_bernoulli_return_sampler(0.6, n=2)(1000)\n",
    "plot_3d_func(lambda x, y: log_return([x, y], samples))"
   ]
  },
  {
   "cell_type": "markdown",
   "metadata": {},
   "source": [
    "but as $p$ grows we see the same behaviour, with the threshold somewhere above $p = 0.8$ "
   ]
  },
  {
   "cell_type": "code",
   "execution_count": 38,
   "metadata": {},
   "outputs": [
    {
     "name": "stderr",
     "output_type": "stream",
     "text": [
      "/Users/mark/git/lab/kelly_criterion/kelly_criterion/plots_3d.py:24: RuntimeWarning: More than 20 figures have been opened. Figures created through the pyplot interface (`matplotlib.pyplot.figure`) are retained until explicitly closed and may consume too much memory. (To control this warning, see the rcParam `figure.max_open_warning`).\n",
      "  plt.figure()\n"
     ]
    },
    {
     "data": {
      "application/vnd.jupyter.widget-view+json": {
       "model_id": "44ec1e59811f4e36b48bb38b59944895",
       "version_major": 2,
       "version_minor": 0
      },
      "text/plain": [
       "Canvas(toolbar=Toolbar(toolitems=[('Home', 'Reset original view', 'home', 'home'), ('Back', 'Back to previous …"
      ]
     },
     "metadata": {},
     "output_type": "display_data"
    }
   ],
   "source": [
    "samples = make_bernoulli_return_sampler(0.9, n=2)(1000)\n",
    "plot_3d_func(lambda x, y: log_return([x, y], samples))"
   ]
  },
  {
   "cell_type": "markdown",
   "metadata": {},
   "source": [
    "## References\n",
    "\n",
    "[\\[Finkelstein et al, 1981\\]](https://www.jstor.org/stable/1426692?seq=1) Finkelstein, Mark, and Robert Whitley. \"Optimal Strategies for Repeated Games.\" Advances in Applied Probability 13, no. 2 (1981): 415-28. Accessed December 9, 2020. doi:10.2307/1426692. https://escholarship.org/uc/item/4w69h2xx\n"
   ]
  }
 ],
 "metadata": {
  "kernelspec": {
   "display_name": "Python 3",
   "language": "python",
   "name": "python3"
  },
  "language_info": {
   "codemirror_mode": {
    "name": "ipython",
    "version": 3
   },
   "file_extension": ".py",
   "mimetype": "text/x-python",
   "name": "python",
   "nbconvert_exporter": "python",
   "pygments_lexer": "ipython3",
   "version": "3.8.1"
  }
 },
 "nbformat": 4,
 "nbformat_minor": 4
}
