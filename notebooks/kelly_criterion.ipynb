{
 "cells": [
  {
   "cell_type": "code",
   "execution_count": 3,
   "metadata": {},
   "outputs": [],
   "source": [
    "%load_ext autoreload\n",
    "%autoreload 2"
   ]
  },
  {
   "cell_type": "code",
   "execution_count": 106,
   "metadata": {},
   "outputs": [],
   "source": [
    "from dataclasses import dataclass\n",
    "\n",
    "import numpy as np\n",
    "from scipy.stats import bernoulli"
   ]
  },
  {
   "cell_type": "code",
   "execution_count": 72,
   "metadata": {},
   "outputs": [],
   "source": [
    "def make_binomial_generator(p):\n",
    "    def binomial_generator(n_periods):\n",
    "        return 2*(bernoulli.rvs(p, size=n_periods)-0.5)\n",
    "    return binomial_generator\n",
    "\n",
    "def make_constant_fraction_strategy(fraction):\n",
    "    def strategy(wealth):\n",
    "        return fraction*wealth\n",
    "    return strategy\n",
    "\n",
    "def sim_wealth(outcome_generator, strategy, *, n_periods=1):\n",
    "    outcomes = outcome_generator(n_periods)\n",
    "    wealth = np.zeros(n_periods + 1)\n",
    "    wealth[0] = 1\n",
    "    for i in range(1, n_periods + 1):\n",
    "        wealth[i] = wealth[i-1] + strategy(wealth[i-1]) * outcomes[i-1]\n",
    "        if wealth[i] <= 0:\n",
    "            wealth[i] = 0\n",
    "            break\n",
    "    return wealth\n"
   ]
  },
  {
   "cell_type": "code",
   "execution_count": 85,
   "metadata": {},
   "outputs": [
    {
     "data": {
      "text/plain": [
       "array([1.000000e+00, 2.000000e+00, 4.000000e+00, 8.000000e+00,\n",
       "       1.600000e+01, 3.200000e+01, 6.400000e+01, 1.280000e+02,\n",
       "       2.560000e+02, 5.120000e+02, 1.024000e+03, 2.048000e+03,\n",
       "       4.096000e+03, 8.192000e+03, 1.638400e+04, 3.276800e+04,\n",
       "       6.553600e+04, 1.310720e+05, 2.621440e+05, 5.242880e+05,\n",
       "       1.048576e+06, 2.097152e+06, 4.194304e+06, 0.000000e+00,\n",
       "       0.000000e+00, 0.000000e+00, 0.000000e+00, 0.000000e+00,\n",
       "       0.000000e+00, 0.000000e+00, 0.000000e+00, 0.000000e+00,\n",
       "       0.000000e+00, 0.000000e+00, 0.000000e+00, 0.000000e+00,\n",
       "       0.000000e+00, 0.000000e+00, 0.000000e+00, 0.000000e+00,\n",
       "       0.000000e+00, 0.000000e+00, 0.000000e+00, 0.000000e+00,\n",
       "       0.000000e+00, 0.000000e+00, 0.000000e+00, 0.000000e+00,\n",
       "       0.000000e+00, 0.000000e+00, 0.000000e+00, 0.000000e+00,\n",
       "       0.000000e+00, 0.000000e+00, 0.000000e+00, 0.000000e+00,\n",
       "       0.000000e+00, 0.000000e+00, 0.000000e+00, 0.000000e+00,\n",
       "       0.000000e+00, 0.000000e+00, 0.000000e+00, 0.000000e+00,\n",
       "       0.000000e+00, 0.000000e+00, 0.000000e+00, 0.000000e+00,\n",
       "       0.000000e+00, 0.000000e+00, 0.000000e+00, 0.000000e+00,\n",
       "       0.000000e+00, 0.000000e+00, 0.000000e+00, 0.000000e+00,\n",
       "       0.000000e+00, 0.000000e+00, 0.000000e+00, 0.000000e+00,\n",
       "       0.000000e+00, 0.000000e+00, 0.000000e+00, 0.000000e+00,\n",
       "       0.000000e+00, 0.000000e+00, 0.000000e+00, 0.000000e+00,\n",
       "       0.000000e+00, 0.000000e+00, 0.000000e+00, 0.000000e+00,\n",
       "       0.000000e+00, 0.000000e+00, 0.000000e+00, 0.000000e+00,\n",
       "       0.000000e+00, 0.000000e+00, 0.000000e+00, 0.000000e+00,\n",
       "       0.000000e+00])"
      ]
     },
     "execution_count": 85,
     "metadata": {},
     "output_type": "execute_result"
    }
   ],
   "source": [
    "sim_wealth(make_binomial_generator(0.8), make_constant_fraction_strategy(1), n_periods=100)"
   ]
  },
  {
   "cell_type": "code",
   "execution_count": 130,
   "metadata": {},
   "outputs": [
    {
     "data": {
      "text/plain": [
       "{'prob_brankrupt': 0.0, 'avg_wealth': 2.5781560546875}"
      ]
     },
     "execution_count": 130,
     "metadata": {},
     "output_type": "execute_result"
    }
   ],
   "source": [
    "binomial_60_generator = make_binomial_generator(0.6)\n",
    "all_in = make_constant_fraction_strategy(0.5)\n",
    "n_sims = 10000\n",
    "n_periods = 10\n",
    "\n",
    "@dataclass\n",
    "class Cumulator:\n",
    "    n_bankrupt = 0\n",
    "    cum_wealth = 0\n",
    "\n",
    "cumul = Cumulator()\n",
    "for i in range(n_sims):\n",
    "    wealth = sim_wealth(binomial_60_generator, all_in, n_periods=n_periods)\n",
    "    cumul.cum_wealth += wealth[n_periods]\n",
    "    if wealth[n_periods] < 0.0001:\n",
    "        cumul.n_bankrupt += 1\n",
    "\n",
    "{\n",
    "    \"prob_brankrupt\": cumul.n_bankrupt / n_sims,\n",
    "    \"avg_wealth\": cumul.cum_wealth / n_sims,\n",
    "}"
   ]
  }
 ],
 "metadata": {
  "kernelspec": {
   "display_name": "Python 3",
   "language": "python",
   "name": "python3"
  },
  "language_info": {
   "codemirror_mode": {
    "name": "ipython",
    "version": 3
   },
   "file_extension": ".py",
   "mimetype": "text/x-python",
   "name": "python",
   "nbconvert_exporter": "python",
   "pygments_lexer": "ipython3",
   "version": "3.8.1"
  }
 },
 "nbformat": 4,
 "nbformat_minor": 4
}
