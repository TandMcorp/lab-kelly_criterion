{
 "cells": [
  {
   "cell_type": "markdown",
   "metadata": {},
   "source": [
    "# Solving for the Kelly Strategy\n",
    "\n",
    "## Objective\n",
    "\n",
    "The goal of this lab is to explore some ways of solving for the Kelly Strategy. Despite the simple statement of the strategy, it seems to be non-obvious to evaluate even if we assume a given distribution. \n",
    "\n",
    "## Background\n",
    "\n",
    "The Kelly Strategy is to maximize the expected log-returns per period, $G(\\Lambda) := \\mathbb{E}\\big[ \\log\\big( X(\\Lambda) \\big)\\big]$, over all eligible strategies $\\Lambda$.\n",
    "\n",
    "In the binomial case initially presented by Kelly, we get a closed-form solution:\n",
    "\n",
    "$$\n",
    "\\begin{align}\n",
    "& G(\\Lambda) = G(\\lambda) = \\mathbb{E}\\big[ \\log\\big( (1-\\lambda) +\\lambda X \\big)\\big] = p \\log(1+\\lambda) + q \\log(1-\\lambda) \\\\\n",
    "& \\Rightarrow \\lambda^* := \\arg\\max_\\lambda G(\\lambda) = p-q\n",
    "\\end{align}\n",
    "$$\n",
    "\n",
    "Be even if we just extend that same univariate case to a general distribution there no longer seems to be a closed-form solution:\n",
    "\n",
    "$$\n",
    "G(\\Lambda) = G(\\lambda) = \\mathbb{E}\\big[ \\log\\big( (1-\\lambda) +\\lambda X \\big)\\big] = \\mathbb{E}\\big[ \\log\\big( 1 + \\lambda (X-1) \\big)\\big]\n",
    "$$\n",
    "\n",
    "(Note: In a number of references, there's a risk-free rate of growth $r$. As long as $r$ is non-random, it washes out by using $e^{rt}$ as numeraire. So $X$ is really $e^{rt}X$. But this isn't relavant to the exploration here.)\n",
    "\n",
    "## Taylor Approximation\n",
    "\n",
    "Taking a second-order approximation of the log, we get:\n",
    "\n",
    "$$\n",
    "G(\\lambda) = \\mathbb{E}\\big[ \\log\\big( 1 + \\lambda (X-1) \\big)\\big] = \\mathbb{E}\\big[ \\lambda (X-1) - \\frac{1}{2} \\big(\\lambda (X-1)\\big)^2 \\big] = \\lambda \\mu - \\frac{1}{2} \\lambda^2 \\sigma^2\n",
    "$$\n",
    "\n",
    "where\n",
    "- $\\mu := \\mathbb{E}[X-1]$ is the expected return of the variable\n",
    "- $\\sigma^2 := \\mathbb{E}[(X-1)^2]$ is the second (non-central) moment of the return of the variable\n",
    "\n",
    "This gives $\\lambda^* = \\frac{\\mu}{\\sigma^2}$.\n",
    "\n"
   ]
  },
  {
   "cell_type": "markdown",
   "metadata": {},
   "source": [
    "## References\n",
    "\n",
    "[\\[Homem-de-Mello, 2014\\]](http://www.optimization-online.org/DB_FILE/2013/06/3920.pdf) Homem-de-Mello, Tito, & Guzin Bayraksan, Monte Carlo Sampling-Based Methods for Stochastic Optimization, 2014-01-22\n",
    "\n",
    "[\\[Rotando, 1992\\]](http://www.edwardothorp.com/wp-content/uploads/2016/11/TheKellyCriterionAndTheStockMarket.pdf) Rotando, Louis, & Edward Thorp, The Kelly Criterion and the Stock Market, 1992-10-xx\n",
    "\n"
   ]
  }
 ],
 "metadata": {
  "kernelspec": {
   "display_name": "Python 3",
   "language": "python",
   "name": "python3"
  },
  "language_info": {
   "codemirror_mode": {
    "name": "ipython",
    "version": 3
   },
   "file_extension": ".py",
   "mimetype": "text/x-python",
   "name": "python",
   "nbconvert_exporter": "python",
   "pygments_lexer": "ipython3",
   "version": "3.8.1"
  }
 },
 "nbformat": 4,
 "nbformat_minor": 4
}
